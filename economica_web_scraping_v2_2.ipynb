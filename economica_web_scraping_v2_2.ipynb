{
  "nbformat": 4,
  "nbformat_minor": 0,
  "metadata": {
    "colab": {
      "provenance": [],
      "authorship_tag": "ABX9TyMRw+C5zBxd/5NK+nvPtpBd",
      "include_colab_link": true
    },
    "kernelspec": {
      "name": "python3",
      "display_name": "Python 3"
    },
    "language_info": {
      "name": "python"
    }
  },
  "cells": [
    {
      "cell_type": "markdown",
      "metadata": {
        "id": "view-in-github",
        "colab_type": "text"
      },
      "source": [
        "<a href=\"https://colab.research.google.com/github/rodnm/insta_web-scraping/blob/main/economica_web_scraping_v2_2.ipynb\" target=\"_parent\"><img src=\"https://colab.research.google.com/assets/colab-badge.svg\" alt=\"Open In Colab\"/></a>"
      ]
    },
    {
      "cell_type": "markdown",
      "source": [
        "# Testeo de web scraping de `economicaperu`"
      ],
      "metadata": {
        "id": "RsIX9j8caJKY"
      }
    },
    {
      "cell_type": "markdown",
      "source": [
        "## `instaloader`"
      ],
      "metadata": {
        "id": "TNuuIrHjshwy"
      }
    },
    {
      "cell_type": "code",
      "source": [
        "!pip install instaloader"
      ],
      "metadata": {
        "colab": {
          "base_uri": "https://localhost:8080/"
        },
        "id": "2C0ivLhQYEzU",
        "outputId": "c631dcdf-94e7-44f0-da4e-f06adfcb2c5f"
      },
      "execution_count": null,
      "outputs": [
        {
          "output_type": "stream",
          "name": "stdout",
          "text": [
            "Collecting instaloader\n",
            "  Downloading instaloader-4.11.tar.gz (63 kB)\n",
            "\u001b[?25l     \u001b[90m━━━━━━━━━━━━━━━━━━━━━━━━━━━━━━━━━━━━━━━━\u001b[0m \u001b[32m0.0/63.8 kB\u001b[0m \u001b[31m?\u001b[0m eta \u001b[36m-:--:--\u001b[0m\r\u001b[2K     \u001b[90m━━━━━━━━━━━━━━━━━━━━━━━━━━━━━━━━━━━━━━━━\u001b[0m \u001b[32m63.8/63.8 kB\u001b[0m \u001b[31m2.0 MB/s\u001b[0m eta \u001b[36m0:00:00\u001b[0m\n",
            "\u001b[?25h  Preparing metadata (setup.py) ... \u001b[?25l\u001b[?25hdone\n",
            "Requirement already satisfied: requests>=2.4 in /usr/local/lib/python3.10/dist-packages (from instaloader) (2.31.0)\n",
            "Requirement already satisfied: charset-normalizer<4,>=2 in /usr/local/lib/python3.10/dist-packages (from requests>=2.4->instaloader) (3.3.2)\n",
            "Requirement already satisfied: idna<4,>=2.5 in /usr/local/lib/python3.10/dist-packages (from requests>=2.4->instaloader) (3.7)\n",
            "Requirement already satisfied: urllib3<3,>=1.21.1 in /usr/local/lib/python3.10/dist-packages (from requests>=2.4->instaloader) (2.0.7)\n",
            "Requirement already satisfied: certifi>=2017.4.17 in /usr/local/lib/python3.10/dist-packages (from requests>=2.4->instaloader) (2024.2.2)\n",
            "Building wheels for collected packages: instaloader\n",
            "  Building wheel for instaloader (setup.py) ... \u001b[?25l\u001b[?25hdone\n",
            "  Created wheel for instaloader: filename=instaloader-4.11-py3-none-any.whl size=65967 sha256=9db49efc5b271de015103b44f6a221ad7155acedde22e86ab5b0ed47d1c78269\n",
            "  Stored in directory: /root/.cache/pip/wheels/59/74/a0/a643055404b7f51b588926301ce74f4ad195e5d45cde82e79d\n",
            "Successfully built instaloader\n",
            "Installing collected packages: instaloader\n",
            "Successfully installed instaloader-4.11\n"
          ]
        }
      ]
    },
    {
      "cell_type": "markdown",
      "source": [
        "### Librerías"
      ],
      "metadata": {
        "id": "IG37dXE1UnpK"
      }
    },
    {
      "cell_type": "code",
      "source": [
        "import instaloader\n",
        "import pandas as pd\n",
        "import re\n",
        "import os\n",
        "import shutil"
      ],
      "metadata": {
        "id": "1xEctWf_UnDq"
      },
      "execution_count": null,
      "outputs": []
    },
    {
      "cell_type": "markdown",
      "source": [
        "### Extracción de datos de perfil de `economicaperu`"
      ],
      "metadata": {
        "id": "VIEp5a3SZ6Gt"
      }
    },
    {
      "cell_type": "markdown",
      "source": [
        "Siguiendo la guía y ejemplo de la publicación de [Make Use Of (2022)](https://www.makeuseof.com/python-instagram-fetch-data/), extraemos datos generales del perfil de `economicaperu` usando la librería [Instaloader](https://instaloader.github.io/as-module.html)."
      ],
      "metadata": {
        "id": "G5nBJx6sad-b"
      }
    },
    {
      "cell_type": "code",
      "source": [
        "USER = 'economicaperu'\n",
        "\n",
        "# Creando una instancia de la clase Instaloader\n",
        "bot = instaloader.Instaloader()\n",
        "\n",
        "# Cargando un perfil desde un identificador de Instagram\n",
        "profile = instaloader.Profile.from_username(bot.context, USER)\n",
        "print(\"Username: \", profile.username)\n",
        "print(\"User ID: \", profile.userid)\n",
        "print(\"Number of Posts: \", profile.mediacount)\n",
        "print(\"Followers Count: \", profile.followers)\n",
        "print(\"Following Count: \", profile.followees)\n",
        "print(\"Bio: \", profile.biography)\n",
        "print(\"External URL: \", profile.external_url)\n",
        "\n",
        "# emails de bio si existen\n",
        "emails = re.findall(r\"\\b[A-Za-z0-9._%+-]+@[A-Za-z0-9.-]+\\.[A-Z|a-z]{2,}\\b\", profile.biography)\n",
        "print(\"Emails extracted from the bio:\")\n",
        "print(emails)"
      ],
      "metadata": {
        "id": "GRC9a787YFeZ"
      },
      "execution_count": null,
      "outputs": []
    },
    {
      "cell_type": "markdown",
      "source": [
        "Si previamente existe la carpeta de `USER` con los archivos que vamos a descargar (debido a volver a que estamos corriendo el código nuevamente) mejor los eliminarlos para evitar errores."
      ],
      "metadata": {
        "id": "0h-BuMz3VDeP"
      }
    },
    {
      "cell_type": "code",
      "source": [
        "carpeta = USER\n",
        "\n",
        "# Verificar si la carpeta existe\n",
        "if os.path.exists(carpeta) and os.path.isdir(carpeta):\n",
        "    # Iterar sobre cada archivo en la carpeta\n",
        "    for archivo in os.listdir(carpeta):\n",
        "        if archivo.endswith(\".txt\") or archivo.endswith(\".json\") or archivo.endswith(\".json.xz\") or archivo.endswith(\".jpg\"):\n",
        "            # Construir la ruta completa del archivo\n",
        "            ruta_completa = os.path.join(carpeta, archivo)\n",
        "            # Eliminar el archivo\n",
        "            os.remove(ruta_completa)\n",
        "\n",
        "    # Eliminar la carpeta misma\n",
        "    shutil.rmtree(carpeta)\n",
        "\n",
        "    print(\"Carpeta y archivos eliminados exitosamente.\")\n",
        "else:\n",
        "    print(\"La carpeta no existe. No se realizaron cambios.\")\n"
      ],
      "metadata": {
        "colab": {
          "base_uri": "https://localhost:8080/"
        },
        "id": "rZwR16-Y9tcg",
        "outputId": "a5bbcd83-9d79-4f34-c416-5330f1de2a0f"
      },
      "execution_count": null,
      "outputs": [
        {
          "output_type": "stream",
          "name": "stdout",
          "text": [
            "Carpeta y archivos eliminados exitosamente.\n"
          ]
        }
      ]
    },
    {
      "cell_type": "markdown",
      "source": [
        "Esta linea de código se ejecuta en la terminal y descarga la metadata `(fecha, likes, comentarios y descripción)` de cada post en archivos `.txt`,`.json` y `.json.xz`, además, descarga la foto de perfil de la cuenta en `.jpg`.\n",
        "\n",
        "El problema de ejecutar esta linea de código es que es al ser muchos post eso es detectado por la API de Instagram como actividad sospechosa y genera el error `Fatal error: 400 Bad Request` o `JSON Query to graphql/query: HTTP error code 401`.\n",
        "\n",
        "La única manera de evitar algún problema es corriendo esto en la terminal de la PC (sea Windows, Mac o UNIX/Linux) y parar al ver alguno de estos errores. Después de una hora mínimo, repetir la ejecución del código y volver a parar si aparece algún error. Y así repetir hasta conseguir todos los archivos con la metadata de cada post."
      ],
      "metadata": {
        "id": "zsbTQ2amkrUp"
      }
    },
    {
      "cell_type": "code",
      "source": [
        "!instaloader --no-pictures --no-videos --post-metadata-txt \"{date_utc}|{likes}|{comments}|{caption}\" --comments economicaperu"
      ],
      "metadata": {
        "id": "jfbUM8VfPEqR"
      },
      "execution_count": null,
      "outputs": []
    },
    {
      "cell_type": "markdown",
      "source": [
        "Debido a esta dificultad ya tengo un archivo .zip que he podido generar en mi PC donde ya concluí ese bucle de ejecutar esa línea de código. Es este archivo comprimido se encuentra los datos de 2057 posts.\n",
        "\n",
        "El motivo por el que es mayor al número de post de 2026 que previamente revisamos con Instaloader lo desconozco. Sospecho que puede haber incluido información de posts que previamente fueron eliminados, pero que sigue almacenado sus metadatos en los servidores de Facebook."
      ],
      "metadata": {
        "id": "DVC_GK_GkqCR"
      }
    },
    {
      "cell_type": "code",
      "source": [
        "import zipfile\n",
        "\n",
        "# Ruta del archivo ZIP y el directorio de destino\n",
        "zip_file_path = 'economicaperu.zip'\n",
        "output_dir = './'\n",
        "\n",
        "# Asegurarse de que el directorio de destino exista\n",
        "if not os.path.exists(output_dir):\n",
        "    os.makedirs(output_dir)\n",
        "\n",
        "# Abrir y extraer el archivo ZIP\n",
        "with zipfile.ZipFile(zip_file_path, 'r') as zip_ref:\n",
        "    zip_ref.extractall(output_dir)\n",
        "\n",
        "print(f\"Archivo descomprimido en: {output_dir}\")\n"
      ],
      "metadata": {
        "colab": {
          "base_uri": "https://localhost:8080/"
        },
        "id": "vAiTVF5Ef_Zy",
        "outputId": "166d9bb6-87d1-4505-90ae-034bcc62c04e"
      },
      "execution_count": null,
      "outputs": [
        {
          "output_type": "stream",
          "name": "stdout",
          "text": [
            "Archivo descomprimido en: ./\n"
          ]
        }
      ]
    },
    {
      "cell_type": "markdown",
      "source": [
        "Esta celda de código se encarga de eliminar cualquier hashtags  que pueda aparecer entre las fechas si ocurriece.\n",
        "\n",
        "Después se encarga de detectar todos los archivos txt de la carpeta `economicaperu`, detecta cada nuevo registro y aplana el todos los datos de cada archivo (caption con varios saltos de línea) y los agrupa en una lista `datos`."
      ],
      "metadata": {
        "id": "s0-mvO_9n2OQ"
      }
    },
    {
      "cell_type": "code",
      "source": [
        "# Función para eliminar hashtags de una cadena\n",
        "def eliminar_hashtags(cadena):\n",
        "    return re.sub(r'#\\w+\\s*', '', cadena)\n",
        "\n",
        "# Ruta de la carpeta que contiene los archivos txt\n",
        "carpeta = USER\n",
        "\n",
        "# Lista para almacenar los datos de cada archivo\n",
        "datos = []\n",
        "\n",
        "# Expresión regular para detectar la fecha al inicio de una línea\n",
        "patron_fecha = re.compile(r'^\\d{4}-\\d{2}-\\d{2}_\\d{2}-\\d{2}-\\d{2}')\n",
        "\n",
        "# Iterar sobre cada archivo en la carpeta\n",
        "for archivo in os.listdir(carpeta):\n",
        "    if archivo.endswith(\".txt\"):\n",
        "        with open(os.path.join(carpeta, archivo), \"r\", encoding=\"utf-8\") as f:\n",
        "            lineas = f.readlines()\n",
        "\n",
        "            # Variables para agrupar datos\n",
        "            registro_actual = []\n",
        "            for linea in lineas:\n",
        "                linea = linea.strip()\n",
        "                if patron_fecha.match(linea):\n",
        "                    if registro_actual:\n",
        "                        # Unir el caption y agregar el registro a los datos\n",
        "                        if len(registro_actual) == 4:\n",
        "                            datos.append(registro_actual)\n",
        "                    # Iniciar un nuevo registro\n",
        "                    partes = linea.split(\"|\", 3)\n",
        "                    if len(partes) == 4:\n",
        "                        registro_actual = partes\n",
        "                        registro_actual[3] = [registro_actual[3]]  # Convertir caption en lista\n",
        "                    else:\n",
        "                        registro_actual = []\n",
        "                else:\n",
        "                    if registro_actual:\n",
        "                        registro_actual[3].append(linea)\n",
        "\n",
        "            # Agregar el último registro\n",
        "            if registro_actual and len(registro_actual) == 4:\n",
        "                datos.append(registro_actual)\n",
        "\n",
        "# Aplanar los captions\n",
        "for registro in datos:\n",
        "    registro[3] = \" \".join(registro[3])"
      ],
      "metadata": {
        "id": "XiM_YgvYRA-A"
      },
      "execution_count": null,
      "outputs": []
    },
    {
      "cell_type": "markdown",
      "source": [
        "Se transforma la lista `datos` en un `dataframe` y se guarda como un archivo `.csv`."
      ],
      "metadata": {
        "id": "9yqQUxuAoljf"
      }
    },
    {
      "cell_type": "code",
      "source": [
        "# Crear un DataFrame con los datos\n",
        "df = pd.DataFrame(datos, columns=[\"fecha\", \"likes\", \"comments\", \"caption\"])\n",
        "\n",
        "# Convertir columnas \"likes\" y \"comments\" a tipo numérico\n",
        "df[\"likes\"] = pd.to_numeric(df[\"likes\"], errors='coerce')\n",
        "df[\"comments\"] = pd.to_numeric(df[\"comments\"], errors='coerce')\n",
        "\n",
        "# Eliminar filas con valores NaN en la columna \"likes\"\n",
        "df = df.dropna(subset=[\"likes\"])\n",
        "\n",
        "# Convertir la columna \"fecha\" a tipo datetime con el formato adecuado\n",
        "df[\"fecha\"] = pd.to_datetime(df[\"fecha\"], format=\"%Y-%m-%d_%H-%M-%S\", errors='coerce')\n",
        "\n",
        "# Eliminar filas con valores NaN en la columna \"fecha\"\n",
        "df = df.dropna(subset=[\"fecha\"])\n",
        "\n",
        "# Ordenar el DataFrame por la columna \"fecha\" de manera descendente\n",
        "df = df.sort_values(by=\"fecha\", ascending=True)\n",
        "\n",
        "# Reiniciar el índice del DataFrame\n",
        "df.reset_index(drop=True, inplace=True)\n",
        "\n",
        "# Guardar el DataFrame como un archivo CSV\n",
        "df.to_csv(\"datos_economicaperu.csv\", index=False)\n",
        "print(\"DataFrame guardado como datos_economicaperu.csv\")\n",
        "print(\"\")\n",
        "print(df.shape)\n",
        "print(\"\")\n",
        "\n",
        "# Mostrar el DataFrame\n",
        "print(df.head(10))"
      ],
      "metadata": {
        "id": "2gAeShReYJZs",
        "colab": {
          "base_uri": "https://localhost:8080/"
        },
        "outputId": "0645b597-0df6-4f83-ef43-82e3c0285a41"
      },
      "execution_count": null,
      "outputs": [
        {
          "output_type": "stream",
          "name": "stdout",
          "text": [
            "DataFrame guardado como datos_economicaperu.csv\n",
            "\n",
            "(2057, 4)\n",
            "\n",
            "                fecha  likes  comments  \\\n",
            "0 2018-03-13 20:12:34     21         0   \n",
            "1 2018-03-14 05:48:54     24         0   \n",
            "2 2018-03-14 23:32:05     17         2   \n",
            "3 2018-03-15 16:08:12     14         2   \n",
            "4 2018-03-15 20:44:48     16         0   \n",
            "5 2018-03-16 23:35:33     16         0   \n",
            "6 2018-03-19 02:29:00     25         0   \n",
            "7 2018-03-19 04:31:17      6         0   \n",
            "8 2018-03-20 15:56:53     14         0   \n",
            "9 2018-03-20 17:30:26     22         0   \n",
            "\n",
            "                                             caption  \n",
            "0  No te pierdas nuestros  cursos de Stata Nivel ...  \n",
            "1  \"El dinero puede servir para liberar al indivi...  \n",
            "2  No te pierdas la oportunidad de ser parte de n...  \n",
            "3  La Organización Económica y el Centro de Estud...  \n",
            "4  Proyecto de ley de la comisión de trabajo ampl...  \n",
            "5  Perú se encuentra entre los países con mayor c...  \n",
            "6  8% de desempleo en Lima Metropolitana: ¿Venezo...  \n",
            "7  El dilema de los impuestos para las empresas m...  \n",
            "8  Mincetur otorgará S/.21 millones a empresas pe...  \n",
            "9  ¡ÚLTIMA OPORTUNIDAD! Sé parte de la octava edi...  \n"
          ]
        }
      ]
    },
    {
      "cell_type": "code",
      "source": [
        "df"
      ],
      "metadata": {
        "id": "v6QJzPlHXMSC",
        "colab": {
          "base_uri": "https://localhost:8080/",
          "height": 424
        },
        "outputId": "67403c1d-ce4a-4141-81de-9867d49d062e"
      },
      "execution_count": null,
      "outputs": [
        {
          "output_type": "execute_result",
          "data": {
            "text/plain": [
              "                   fecha  likes  comments  \\\n",
              "0    2018-03-13 20:12:34     21         0   \n",
              "1    2018-03-14 05:48:54     24         0   \n",
              "2    2018-03-14 23:32:05     17         2   \n",
              "3    2018-03-15 16:08:12     14         2   \n",
              "4    2018-03-15 20:44:48     16         0   \n",
              "...                  ...    ...       ...   \n",
              "2052 2024-05-17 23:18:34    339         4   \n",
              "2053 2024-05-19 21:30:16    299         3   \n",
              "2054 2024-05-23 23:25:43    301         5   \n",
              "2055 2024-05-24 14:58:36    412        14   \n",
              "2056 2024-05-26 01:13:12     76         0   \n",
              "\n",
              "                                                caption  \n",
              "0     No te pierdas nuestros  cursos de Stata Nivel ...  \n",
              "1     \"El dinero puede servir para liberar al indivi...  \n",
              "2     No te pierdas la oportunidad de ser parte de n...  \n",
              "3     La Organización Económica y el Centro de Estud...  \n",
              "4     Proyecto de ley de la comisión de trabajo ampl...  \n",
              "...                                                 ...  \n",
              "2052  She's a mastermind🎶✨ Descubre el \"Efecto Swift...  \n",
              "2053  🌸Industria millonaria e Influencia cultural💰🇯🇵...  \n",
              "2054  ¿Sabías que las promociones de Yape están camb...  \n",
              "2055  🌟 De Guardianes a Engreídos del Hogar 🌟  Nuest...  \n",
              "2056  El debate sobre la implementación de “robots m...  \n",
              "\n",
              "[2057 rows x 4 columns]"
            ],
            "text/html": [
              "\n",
              "  <div id=\"df-a3a92be6-3488-4896-ab8e-e34c219f2728\" class=\"colab-df-container\">\n",
              "    <div>\n",
              "<style scoped>\n",
              "    .dataframe tbody tr th:only-of-type {\n",
              "        vertical-align: middle;\n",
              "    }\n",
              "\n",
              "    .dataframe tbody tr th {\n",
              "        vertical-align: top;\n",
              "    }\n",
              "\n",
              "    .dataframe thead th {\n",
              "        text-align: right;\n",
              "    }\n",
              "</style>\n",
              "<table border=\"1\" class=\"dataframe\">\n",
              "  <thead>\n",
              "    <tr style=\"text-align: right;\">\n",
              "      <th></th>\n",
              "      <th>fecha</th>\n",
              "      <th>likes</th>\n",
              "      <th>comments</th>\n",
              "      <th>caption</th>\n",
              "    </tr>\n",
              "  </thead>\n",
              "  <tbody>\n",
              "    <tr>\n",
              "      <th>0</th>\n",
              "      <td>2018-03-13 20:12:34</td>\n",
              "      <td>21</td>\n",
              "      <td>0</td>\n",
              "      <td>No te pierdas nuestros  cursos de Stata Nivel ...</td>\n",
              "    </tr>\n",
              "    <tr>\n",
              "      <th>1</th>\n",
              "      <td>2018-03-14 05:48:54</td>\n",
              "      <td>24</td>\n",
              "      <td>0</td>\n",
              "      <td>\"El dinero puede servir para liberar al indivi...</td>\n",
              "    </tr>\n",
              "    <tr>\n",
              "      <th>2</th>\n",
              "      <td>2018-03-14 23:32:05</td>\n",
              "      <td>17</td>\n",
              "      <td>2</td>\n",
              "      <td>No te pierdas la oportunidad de ser parte de n...</td>\n",
              "    </tr>\n",
              "    <tr>\n",
              "      <th>3</th>\n",
              "      <td>2018-03-15 16:08:12</td>\n",
              "      <td>14</td>\n",
              "      <td>2</td>\n",
              "      <td>La Organización Económica y el Centro de Estud...</td>\n",
              "    </tr>\n",
              "    <tr>\n",
              "      <th>4</th>\n",
              "      <td>2018-03-15 20:44:48</td>\n",
              "      <td>16</td>\n",
              "      <td>0</td>\n",
              "      <td>Proyecto de ley de la comisión de trabajo ampl...</td>\n",
              "    </tr>\n",
              "    <tr>\n",
              "      <th>...</th>\n",
              "      <td>...</td>\n",
              "      <td>...</td>\n",
              "      <td>...</td>\n",
              "      <td>...</td>\n",
              "    </tr>\n",
              "    <tr>\n",
              "      <th>2052</th>\n",
              "      <td>2024-05-17 23:18:34</td>\n",
              "      <td>339</td>\n",
              "      <td>4</td>\n",
              "      <td>She's a mastermind🎶✨ Descubre el \"Efecto Swift...</td>\n",
              "    </tr>\n",
              "    <tr>\n",
              "      <th>2053</th>\n",
              "      <td>2024-05-19 21:30:16</td>\n",
              "      <td>299</td>\n",
              "      <td>3</td>\n",
              "      <td>🌸Industria millonaria e Influencia cultural💰🇯🇵...</td>\n",
              "    </tr>\n",
              "    <tr>\n",
              "      <th>2054</th>\n",
              "      <td>2024-05-23 23:25:43</td>\n",
              "      <td>301</td>\n",
              "      <td>5</td>\n",
              "      <td>¿Sabías que las promociones de Yape están camb...</td>\n",
              "    </tr>\n",
              "    <tr>\n",
              "      <th>2055</th>\n",
              "      <td>2024-05-24 14:58:36</td>\n",
              "      <td>412</td>\n",
              "      <td>14</td>\n",
              "      <td>🌟 De Guardianes a Engreídos del Hogar 🌟  Nuest...</td>\n",
              "    </tr>\n",
              "    <tr>\n",
              "      <th>2056</th>\n",
              "      <td>2024-05-26 01:13:12</td>\n",
              "      <td>76</td>\n",
              "      <td>0</td>\n",
              "      <td>El debate sobre la implementación de “robots m...</td>\n",
              "    </tr>\n",
              "  </tbody>\n",
              "</table>\n",
              "<p>2057 rows × 4 columns</p>\n",
              "</div>\n",
              "    <div class=\"colab-df-buttons\">\n",
              "\n",
              "  <div class=\"colab-df-container\">\n",
              "    <button class=\"colab-df-convert\" onclick=\"convertToInteractive('df-a3a92be6-3488-4896-ab8e-e34c219f2728')\"\n",
              "            title=\"Convert this dataframe to an interactive table.\"\n",
              "            style=\"display:none;\">\n",
              "\n",
              "  <svg xmlns=\"http://www.w3.org/2000/svg\" height=\"24px\" viewBox=\"0 -960 960 960\">\n",
              "    <path d=\"M120-120v-720h720v720H120Zm60-500h600v-160H180v160Zm220 220h160v-160H400v160Zm0 220h160v-160H400v160ZM180-400h160v-160H180v160Zm440 0h160v-160H620v160ZM180-180h160v-160H180v160Zm440 0h160v-160H620v160Z\"/>\n",
              "  </svg>\n",
              "    </button>\n",
              "\n",
              "  <style>\n",
              "    .colab-df-container {\n",
              "      display:flex;\n",
              "      gap: 12px;\n",
              "    }\n",
              "\n",
              "    .colab-df-convert {\n",
              "      background-color: #E8F0FE;\n",
              "      border: none;\n",
              "      border-radius: 50%;\n",
              "      cursor: pointer;\n",
              "      display: none;\n",
              "      fill: #1967D2;\n",
              "      height: 32px;\n",
              "      padding: 0 0 0 0;\n",
              "      width: 32px;\n",
              "    }\n",
              "\n",
              "    .colab-df-convert:hover {\n",
              "      background-color: #E2EBFA;\n",
              "      box-shadow: 0px 1px 2px rgba(60, 64, 67, 0.3), 0px 1px 3px 1px rgba(60, 64, 67, 0.15);\n",
              "      fill: #174EA6;\n",
              "    }\n",
              "\n",
              "    .colab-df-buttons div {\n",
              "      margin-bottom: 4px;\n",
              "    }\n",
              "\n",
              "    [theme=dark] .colab-df-convert {\n",
              "      background-color: #3B4455;\n",
              "      fill: #D2E3FC;\n",
              "    }\n",
              "\n",
              "    [theme=dark] .colab-df-convert:hover {\n",
              "      background-color: #434B5C;\n",
              "      box-shadow: 0px 1px 3px 1px rgba(0, 0, 0, 0.15);\n",
              "      filter: drop-shadow(0px 1px 2px rgba(0, 0, 0, 0.3));\n",
              "      fill: #FFFFFF;\n",
              "    }\n",
              "  </style>\n",
              "\n",
              "    <script>\n",
              "      const buttonEl =\n",
              "        document.querySelector('#df-a3a92be6-3488-4896-ab8e-e34c219f2728 button.colab-df-convert');\n",
              "      buttonEl.style.display =\n",
              "        google.colab.kernel.accessAllowed ? 'block' : 'none';\n",
              "\n",
              "      async function convertToInteractive(key) {\n",
              "        const element = document.querySelector('#df-a3a92be6-3488-4896-ab8e-e34c219f2728');\n",
              "        const dataTable =\n",
              "          await google.colab.kernel.invokeFunction('convertToInteractive',\n",
              "                                                    [key], {});\n",
              "        if (!dataTable) return;\n",
              "\n",
              "        const docLinkHtml = 'Like what you see? Visit the ' +\n",
              "          '<a target=\"_blank\" href=https://colab.research.google.com/notebooks/data_table.ipynb>data table notebook</a>'\n",
              "          + ' to learn more about interactive tables.';\n",
              "        element.innerHTML = '';\n",
              "        dataTable['output_type'] = 'display_data';\n",
              "        await google.colab.output.renderOutput(dataTable, element);\n",
              "        const docLink = document.createElement('div');\n",
              "        docLink.innerHTML = docLinkHtml;\n",
              "        element.appendChild(docLink);\n",
              "      }\n",
              "    </script>\n",
              "  </div>\n",
              "\n",
              "\n",
              "<div id=\"df-63dd2dc8-2ac7-4404-a7da-813c0a5152b6\">\n",
              "  <button class=\"colab-df-quickchart\" onclick=\"quickchart('df-63dd2dc8-2ac7-4404-a7da-813c0a5152b6')\"\n",
              "            title=\"Suggest charts\"\n",
              "            style=\"display:none;\">\n",
              "\n",
              "<svg xmlns=\"http://www.w3.org/2000/svg\" height=\"24px\"viewBox=\"0 0 24 24\"\n",
              "     width=\"24px\">\n",
              "    <g>\n",
              "        <path d=\"M19 3H5c-1.1 0-2 .9-2 2v14c0 1.1.9 2 2 2h14c1.1 0 2-.9 2-2V5c0-1.1-.9-2-2-2zM9 17H7v-7h2v7zm4 0h-2V7h2v10zm4 0h-2v-4h2v4z\"/>\n",
              "    </g>\n",
              "</svg>\n",
              "  </button>\n",
              "\n",
              "<style>\n",
              "  .colab-df-quickchart {\n",
              "      --bg-color: #E8F0FE;\n",
              "      --fill-color: #1967D2;\n",
              "      --hover-bg-color: #E2EBFA;\n",
              "      --hover-fill-color: #174EA6;\n",
              "      --disabled-fill-color: #AAA;\n",
              "      --disabled-bg-color: #DDD;\n",
              "  }\n",
              "\n",
              "  [theme=dark] .colab-df-quickchart {\n",
              "      --bg-color: #3B4455;\n",
              "      --fill-color: #D2E3FC;\n",
              "      --hover-bg-color: #434B5C;\n",
              "      --hover-fill-color: #FFFFFF;\n",
              "      --disabled-bg-color: #3B4455;\n",
              "      --disabled-fill-color: #666;\n",
              "  }\n",
              "\n",
              "  .colab-df-quickchart {\n",
              "    background-color: var(--bg-color);\n",
              "    border: none;\n",
              "    border-radius: 50%;\n",
              "    cursor: pointer;\n",
              "    display: none;\n",
              "    fill: var(--fill-color);\n",
              "    height: 32px;\n",
              "    padding: 0;\n",
              "    width: 32px;\n",
              "  }\n",
              "\n",
              "  .colab-df-quickchart:hover {\n",
              "    background-color: var(--hover-bg-color);\n",
              "    box-shadow: 0 1px 2px rgba(60, 64, 67, 0.3), 0 1px 3px 1px rgba(60, 64, 67, 0.15);\n",
              "    fill: var(--button-hover-fill-color);\n",
              "  }\n",
              "\n",
              "  .colab-df-quickchart-complete:disabled,\n",
              "  .colab-df-quickchart-complete:disabled:hover {\n",
              "    background-color: var(--disabled-bg-color);\n",
              "    fill: var(--disabled-fill-color);\n",
              "    box-shadow: none;\n",
              "  }\n",
              "\n",
              "  .colab-df-spinner {\n",
              "    border: 2px solid var(--fill-color);\n",
              "    border-color: transparent;\n",
              "    border-bottom-color: var(--fill-color);\n",
              "    animation:\n",
              "      spin 1s steps(1) infinite;\n",
              "  }\n",
              "\n",
              "  @keyframes spin {\n",
              "    0% {\n",
              "      border-color: transparent;\n",
              "      border-bottom-color: var(--fill-color);\n",
              "      border-left-color: var(--fill-color);\n",
              "    }\n",
              "    20% {\n",
              "      border-color: transparent;\n",
              "      border-left-color: var(--fill-color);\n",
              "      border-top-color: var(--fill-color);\n",
              "    }\n",
              "    30% {\n",
              "      border-color: transparent;\n",
              "      border-left-color: var(--fill-color);\n",
              "      border-top-color: var(--fill-color);\n",
              "      border-right-color: var(--fill-color);\n",
              "    }\n",
              "    40% {\n",
              "      border-color: transparent;\n",
              "      border-right-color: var(--fill-color);\n",
              "      border-top-color: var(--fill-color);\n",
              "    }\n",
              "    60% {\n",
              "      border-color: transparent;\n",
              "      border-right-color: var(--fill-color);\n",
              "    }\n",
              "    80% {\n",
              "      border-color: transparent;\n",
              "      border-right-color: var(--fill-color);\n",
              "      border-bottom-color: var(--fill-color);\n",
              "    }\n",
              "    90% {\n",
              "      border-color: transparent;\n",
              "      border-bottom-color: var(--fill-color);\n",
              "    }\n",
              "  }\n",
              "</style>\n",
              "\n",
              "  <script>\n",
              "    async function quickchart(key) {\n",
              "      const quickchartButtonEl =\n",
              "        document.querySelector('#' + key + ' button');\n",
              "      quickchartButtonEl.disabled = true;  // To prevent multiple clicks.\n",
              "      quickchartButtonEl.classList.add('colab-df-spinner');\n",
              "      try {\n",
              "        const charts = await google.colab.kernel.invokeFunction(\n",
              "            'suggestCharts', [key], {});\n",
              "      } catch (error) {\n",
              "        console.error('Error during call to suggestCharts:', error);\n",
              "      }\n",
              "      quickchartButtonEl.classList.remove('colab-df-spinner');\n",
              "      quickchartButtonEl.classList.add('colab-df-quickchart-complete');\n",
              "    }\n",
              "    (() => {\n",
              "      let quickchartButtonEl =\n",
              "        document.querySelector('#df-63dd2dc8-2ac7-4404-a7da-813c0a5152b6 button');\n",
              "      quickchartButtonEl.style.display =\n",
              "        google.colab.kernel.accessAllowed ? 'block' : 'none';\n",
              "    })();\n",
              "  </script>\n",
              "</div>\n",
              "    </div>\n",
              "  </div>\n"
            ],
            "application/vnd.google.colaboratory.intrinsic+json": {
              "type": "dataframe",
              "variable_name": "df",
              "summary": "{\n  \"name\": \"df\",\n  \"rows\": 2057,\n  \"fields\": [\n    {\n      \"column\": \"fecha\",\n      \"properties\": {\n        \"dtype\": \"date\",\n        \"min\": \"2018-03-13 20:12:34\",\n        \"max\": \"2024-05-26 01:13:12\",\n        \"num_unique_values\": 2026,\n        \"samples\": [\n          \"2022-06-17 19:33:58\",\n          \"2022-01-09 00:09:15\",\n          \"2022-12-27 19:01:43\"\n        ],\n        \"semantic_type\": \"\",\n        \"description\": \"\"\n      }\n    },\n    {\n      \"column\": \"likes\",\n      \"properties\": {\n        \"dtype\": \"number\",\n        \"std\": 101,\n        \"min\": 6,\n        \"max\": 3305,\n        \"num_unique_values\": 268,\n        \"samples\": [\n          77,\n          471,\n          98\n        ],\n        \"semantic_type\": \"\",\n        \"description\": \"\"\n      }\n    },\n    {\n      \"column\": \"comments\",\n      \"properties\": {\n        \"dtype\": \"number\",\n        \"std\": 4,\n        \"min\": 0,\n        \"max\": 79,\n        \"num_unique_values\": 36,\n        \"samples\": [\n          63,\n          8,\n          17\n        ],\n        \"semantic_type\": \"\",\n        \"description\": \"\"\n      }\n    },\n    {\n      \"column\": \"caption\",\n      \"properties\": {\n        \"dtype\": \"string\",\n        \"num_unique_values\": 2025,\n        \"samples\": [\n          \"\\ud83d\\udcf0 \\u00a1Estimada comunidad, les presentamos nuestra Nota Informativa!  Esta presentaci\\u00f3n es sobre la sorpresiva decisi\\u00f3n del BCRP sobre mantener la tasa de referencia en 6.25% en lugar de recortarla 25pbs como lo esperaban la mayor\\u00eda de analistas.  \\u00a1Esperamos que sea de su agrado y que no se pierdan las siguientes presentaciones!\",\n          \"Desde la revista Econ\\u00f3mica queremos hacer presente la convocatoria de art\\u00edculos para nuestra XIV edici\\u00f3n con el tema: \\u201cSeguridad Alimentaria en el Siglo XXI: Oportunidades y desaf\\u00edos en Am\\u00e9rica Latina\\u201d, el cual tiene como objetivo contribuir a la literatura cient\\u00edfica en las Ciencias Sociales, con \\u00e9nfasis en Econom\\u00eda, enfoc\\u00e1ndose en la evoluci\\u00f3n e implicancias de la seguridad alimentaria en los pa\\u00edses de la regi\\u00f3n. As\\u00ed, busca explorar los procesos socioecon\\u00f3micos y biof\\u00edsicos relacionados a la transformaci\\u00f3n agraria, el desarrollo agroindustrial, y la dependencia y vulnerabilidad agroalimentaria.  Por ello, recalcamos la invitaci\\u00f3n a la convocatoria de art\\u00edculos, rese\\u00f1as o trabajos acad\\u00e9micos para la XIV edici\\u00f3n de la revista \\u201cEcon\\u00f3mica\\u201d hasta el 11 de junio del presente a\\u00f1o.  Para m\\u00e1s informaci\\u00f3n sobre los lineamientos revise el siguiente link: https://docs.google.com/forms/d/1RdKUTt9us0XVeZFOVHnepeifJdbGu9NZV8lbLTIpTiw/edit?ts=645596f6  Cualquier consulta sobre el proceso de convocatoria o sobre alguna consideraci\\u00f3n sobre el art\\u00edculo que desee enviar, no dude en consultarnos a trav\\u00e9s de los siguientes correos electr\\u00f3nicos: publicaciones.economica@gmail.com o publicaciones.economica@gmail.com\",\n          \"#Econ\\u00f3micaInforma  TODO LO QUE NECESITAS SABER SOBRE LO QUE EST\\u00c1 SUCEDIENDO EN COLOMBIA \\ud83c\\udde8\\ud83c\\uddf4  Los cinco d\\u00edas de protestas contra la pol\\u00e9mica reforma tributaria en Colombia ha causado hasta el momento al menos 19 muertos y 800 heridos. Pero, \\u00bfQu\\u00e9 ha provocado realmente esta crisis pol\\u00edtica, econ\\u00f3mica y social?  Ent\\u00e9rate m\\u00e1s en nuestro carrusel informativo, deslizando a la derecha \\u27a1\\ufe0f  Fuentes: https://bbc.in/3h2TMia https://bbc.in/2PMFN4E Derechos de las im\\u00e1genes a quien corresponda.  #Colombia #SOSColombia #Uribe #ReformaTributaria #Duque\"\n        ],\n        \"semantic_type\": \"\",\n        \"description\": \"\"\n      }\n    }\n  ]\n}"
            }
          },
          "metadata": {},
          "execution_count": 27
        }
      ]
    }
  ]
}