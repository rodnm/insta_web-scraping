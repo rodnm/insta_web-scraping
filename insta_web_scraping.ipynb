{
  "nbformat": 4,
  "nbformat_minor": 0,
  "metadata": {
    "colab": {
      "provenance": [],
      "authorship_tag": "ABX9TyPWx+6LWPpSfLclP0wM+Lds",
      "include_colab_link": true
    },
    "kernelspec": {
      "name": "python3",
      "display_name": "Python 3"
    },
    "language_info": {
      "name": "python"
    }
  },
  "cells": [
    {
      "cell_type": "markdown",
      "metadata": {
        "id": "view-in-github",
        "colab_type": "text"
      },
      "source": [
        "<a href=\"https://colab.research.google.com/github/rodnm/insta_web-scraping/blob/main/insta_web_scraping.ipynb\" target=\"_parent\"><img src=\"https://colab.research.google.com/assets/colab-badge.svg\" alt=\"Open In Colab\"/></a>"
      ]
    },
    {
      "cell_type": "markdown",
      "source": [
        "# Testeo de web scraping de `economicaperu`"
      ],
      "metadata": {
        "id": "RsIX9j8caJKY"
      }
    },
    {
      "cell_type": "markdown",
      "source": [
        "## `instaloader`"
      ],
      "metadata": {
        "id": "TNuuIrHjshwy"
      }
    },
    {
      "cell_type": "code",
      "source": [
        "!pip install instaloader"
      ],
      "metadata": {
        "colab": {
          "base_uri": "https://localhost:8080/"
        },
        "id": "2C0ivLhQYEzU",
        "outputId": "a6b61430-8402-472b-dc24-e74e220e11e8"
      },
      "execution_count": 1,
      "outputs": [
        {
          "output_type": "stream",
          "name": "stdout",
          "text": [
            "Collecting instaloader\n",
            "  Downloading instaloader-4.11.tar.gz (63 kB)\n",
            "\u001b[2K     \u001b[90m━━━━━━━━━━━━━━━━━━━━━━━━━━━━━━━━━━━━━━━━\u001b[0m \u001b[32m63.8/63.8 kB\u001b[0m \u001b[31m1.0 MB/s\u001b[0m eta \u001b[36m0:00:00\u001b[0m\n",
            "\u001b[?25h  Preparing metadata (setup.py) ... \u001b[?25l\u001b[?25hdone\n",
            "Requirement already satisfied: requests>=2.4 in /usr/local/lib/python3.10/dist-packages (from instaloader) (2.31.0)\n",
            "Requirement already satisfied: charset-normalizer<4,>=2 in /usr/local/lib/python3.10/dist-packages (from requests>=2.4->instaloader) (3.3.2)\n",
            "Requirement already satisfied: idna<4,>=2.5 in /usr/local/lib/python3.10/dist-packages (from requests>=2.4->instaloader) (3.7)\n",
            "Requirement already satisfied: urllib3<3,>=1.21.1 in /usr/local/lib/python3.10/dist-packages (from requests>=2.4->instaloader) (2.0.7)\n",
            "Requirement already satisfied: certifi>=2017.4.17 in /usr/local/lib/python3.10/dist-packages (from requests>=2.4->instaloader) (2024.2.2)\n",
            "Building wheels for collected packages: instaloader\n",
            "  Building wheel for instaloader (setup.py) ... \u001b[?25l\u001b[?25hdone\n",
            "  Created wheel for instaloader: filename=instaloader-4.11-py3-none-any.whl size=65967 sha256=ab05ae2f764ad08d74204fef87e074ca56c404a36a8478b78ce6d5d981ca047e\n",
            "  Stored in directory: /root/.cache/pip/wheels/59/74/a0/a643055404b7f51b588926301ce74f4ad195e5d45cde82e79d\n",
            "Successfully built instaloader\n",
            "Installing collected packages: instaloader\n",
            "Successfully installed instaloader-4.11\n"
          ]
        }
      ]
    },
    {
      "cell_type": "markdown",
      "source": [
        "### Librerías"
      ],
      "metadata": {
        "id": "IG37dXE1UnpK"
      }
    },
    {
      "cell_type": "code",
      "source": [
        "import instaloader\n",
        "import pandas as pd\n",
        "import re\n",
        "import os\n",
        "import shutil"
      ],
      "metadata": {
        "id": "1xEctWf_UnDq"
      },
      "execution_count": 2,
      "outputs": []
    },
    {
      "cell_type": "markdown",
      "source": [
        "### Extracción de datos de perfil de `economicaperu`"
      ],
      "metadata": {
        "id": "VIEp5a3SZ6Gt"
      }
    },
    {
      "cell_type": "markdown",
      "source": [
        "Siguiendo la guía y ejemplo de la publicación de [Make Use Of (2022)](https://www.makeuseof.com/python-instagram-fetch-data/), extraemos datos generales del perfil de `economicaperu` usando la librería [Instaloader](https://instaloader.github.io/as-module.html)."
      ],
      "metadata": {
        "id": "G5nBJx6sad-b"
      }
    },
    {
      "cell_type": "code",
      "source": [
        "USER = 'economicaperu'\n",
        "\n",
        "# Creando una instancia de la clase Instaloader\n",
        "bot = instaloader.Instaloader()\n",
        "\n",
        "# Cargando un perfil desde un identificador de Instagram\n",
        "profile = instaloader.Profile.from_username(bot.context, USER)\n",
        "print(\"Username: \", profile.username)\n",
        "print(\"User ID: \", profile.userid)\n",
        "print(\"Number of Posts: \", profile.mediacount)\n",
        "print(\"Followers Count: \", profile.followers)\n",
        "print(\"Following Count: \", profile.followees)\n",
        "print(\"Bio: \", profile.biography)\n",
        "print(\"External URL: \", profile.external_url)\n",
        "\n",
        "# emails de bio si existen\n",
        "emails = re.findall(r\"\\b[A-Za-z0-9._%+-]+@[A-Za-z0-9.-]+\\.[A-Z|a-z]{2,}\\b\", profile.biography)\n",
        "print(\"Emails extracted from the bio:\")\n",
        "print(emails)"
      ],
      "metadata": {
        "id": "GRC9a787YFeZ",
        "colab": {
          "base_uri": "https://localhost:8080/"
        },
        "outputId": "418df096-80dd-4658-da44-97df1e399b42"
      },
      "execution_count": 3,
      "outputs": [
        {
          "output_type": "stream",
          "name": "stdout",
          "text": [
            "Username:  economicaperu\n",
            "User ID:  7228077074\n",
            "Number of Posts:  2028\n",
            "Followers Count:  15013\n",
            "Following Count:  123\n",
            "Bio:  Organización de estudiantes de Economía de la PUCP\n",
            "External URL:  https://linktr.ee/economicaperu\n",
            "Emails extracted from the bio:\n",
            "[]\n"
          ]
        }
      ]
    },
    {
      "cell_type": "markdown",
      "source": [
        "Si previamente existe la carpeta de `USER` con los archivos que vamos a descargar (debido a volver a que estamos corriendo el código nuevamente) mejor los eliminarlos para evitar errores."
      ],
      "metadata": {
        "id": "0h-BuMz3VDeP"
      }
    },
    {
      "cell_type": "code",
      "source": [
        "carpeta = USER\n",
        "\n",
        "# Verificar si la carpeta existe\n",
        "if os.path.exists(carpeta) and os.path.isdir(carpeta):\n",
        "    # Iterar sobre cada archivo en la carpeta\n",
        "    for archivo in os.listdir(carpeta):\n",
        "        if archivo.endswith(\".txt\") or archivo.endswith(\".json\") or archivo.endswith(\".json.xz\") or archivo.endswith(\".jpg\"):\n",
        "            # Construir la ruta completa del archivo\n",
        "            ruta_completa = os.path.join(carpeta, archivo)\n",
        "            # Eliminar el archivo\n",
        "            os.remove(ruta_completa)\n",
        "\n",
        "    # Eliminar la carpeta misma\n",
        "    shutil.rmtree(carpeta)\n",
        "\n",
        "    print(\"Carpeta y archivos eliminados exitosamente.\")\n",
        "else:\n",
        "    print(\"La carpeta no existe. No se realizaron cambios.\")\n"
      ],
      "metadata": {
        "colab": {
          "base_uri": "https://localhost:8080/"
        },
        "id": "rZwR16-Y9tcg",
        "outputId": "d9f24ead-f099-4f78-91ad-9e7d641870ee"
      },
      "execution_count": 4,
      "outputs": [
        {
          "output_type": "stream",
          "name": "stdout",
          "text": [
            "La carpeta no existe. No se realizaron cambios.\n"
          ]
        }
      ]
    },
    {
      "cell_type": "markdown",
      "source": [
        "Esta linea de código se ejecuta en la terminal y descarga la metadata `(fecha, likes, comentarios y descripción)` de cada post en archivos `.txt`,`.json` y `.json.xz`, además, descarga la foto de perfil de la cuenta en `.jpg`.\n",
        "\n",
        "El problema de ejecutar esta linea de código es que es al ser muchos post eso es detectado por la API de Instagram como actividad sospechosa y genera el error `Fatal error: 400 Bad Request` o `JSON Query to graphql/query: HTTP error code 401`.\n",
        "\n",
        "La única manera de evitar algún problema es corriendo esto en la terminal de la PC (sea Windows, Mac o UNIX/Linux) y parar al ver alguno de estos errores. Después de una hora mínimo, repetir la ejecución del código y volver a parar si aparece algún error. Y así repetir hasta conseguir todos los archivos con la metadata de cada post."
      ],
      "metadata": {
        "id": "zsbTQ2amkrUp"
      }
    },
    {
      "cell_type": "code",
      "source": [
        "!instaloader --no-pictures --no-videos --post-metadata-txt \"{date_utc}|{likes}|{comments}|{caption}\" --comments economicaperu"
      ],
      "metadata": {
        "id": "jfbUM8VfPEqR",
        "colab": {
          "base_uri": "https://localhost:8080/"
        },
        "outputId": "0a82a91d-1272-473d-8971-1b10cbc595a3"
      },
      "execution_count": 6,
      "outputs": [
        {
          "output_type": "stream",
          "name": "stdout",
          "text": [
            "Hint: Use --login to download higher-quality versions of pictures.\n",
            "[1/1] Downloading profile economicaperu\n",
            "economicaperu/2021-06-08_14-41-41_UTC_profile_pic.jpg already exists\n",
            "Retrieving posts from profile economicaperu.\n",
            "[   1/2028] [2024-04-11_14-06-12|104|10|🎉 …] updated [2024-04-11_14-06-12|105|10|🎉 …] JSON Query to graphql/query: HTTP error code 401. [retrying; skip with ^C]\n",
            "JSON Query to graphql/query: HTTP error code 401. [retrying; skip with ^C]\n",
            "Download <Post C5n7eT9LKAW> of economicaperu: JSON Query to graphql/query: HTTP error code 401.\n",
            "[   2/2028] [2024-05-29_22-50-17|104|0|📰Co…] json \n",
            "[   3/2028] [2024-05-28_22-48-08|54|0|#Eco…] json \n",
            "[   4/2028] [2024-05-26_01-13-12|76|0|El d…] updated [2024-05-26_01-13-12|84|0|El d…] json \n",
            "[   5/2028] [2024-05-24_14-58-36|412|14|🌟 …] updated [2024-05-24_14-58-36|414|14|🌟 …] JSON Query to graphql/query: HTTP error code 401. [retrying; skip with ^C]\n",
            "JSON Query to graphql/query: HTTP error code 401. [retrying; skip with ^C]\n",
            "Download <Post C7WvyeVOAHW> of economicaperu: JSON Query to graphql/query: HTTP error code 401.\n",
            "[   6/2028] [2024-05-23_23-25-43|301|5|¿Sa…] updated [2024-05-23_23-25-43|305|5|¿Sa…] JSON Query to graphql/query: HTTP error code 401. [retrying; skip with ^C]\n",
            "JSON Query to graphql/query: HTTP error code 401. [retrying; skip with ^C]\n",
            "Download <Post C7VFB4rsgRw> of economicaperu: JSON Query to graphql/query: HTTP error code 401.\n",
            "[   7/2028] [2024-05-19_21-30-16|299|3|🌸In…] updated [2024-05-19_21-30-16|300|3|🌸In…] JSON Query to graphql/query: HTTP error code 401. [retrying; skip with ^C]\n",
            "JSON Query to graphql/query: HTTP error code 401. [retrying; skip with ^C]\n",
            "Download <Post C7KkowKvwHi> of economicaperu: JSON Query to graphql/query: HTTP error code 401.\n",
            "[   8/2028] [2024-05-17_23-18-34|339|4|She…] updated [2024-05-17_23-18-34|340|4|She…] JSON Query to graphql/query: HTTP error code 401. [retrying; skip with ^C]\n",
            "JSON Query to graphql/query: HTTP error code 401. [retrying; skip with ^C]\n",
            "Download <Post C7FncLGsD07> of economicaperu: JSON Query to graphql/query: HTTP error code 401.\n",
            "[   9/2028] [2024-05-11_13-53-19|142|1|A p…] unchanged JSON Query to graphql/query: HTTP error code 401. [retrying; skip with ^C]\n",
            "JSON Query to graphql/query: HTTP error code 401. [retrying; skip with ^C]\n",
            "Download <Post C61J_AZsnQI> of economicaperu: JSON Query to graphql/query: HTTP error code 401.\n",
            "[  10/2028] [2024-05-11_00-47-39|69|0|#Pro…] unchanged json \n",
            "[  11/2028] [2024-05-08_22-04-40|109|1|📰De…] unchanged JSON Query to graphql/query: HTTP error code 401. [retrying; skip with ^C]\n",
            "JSON Query to graphql/query: HTTP error code 401. [retrying; skip with ^C]\n",
            "Download <Post C6uT1Ftv5fb> of economicaperu: JSON Query to graphql/query: HTTP error code 401.\n",
            "[  12/2028] [2024-05-06_22-54-32|148|9|🌹 ¡…] unchanged JSON Query to graphql/query: HTTP error code 401. [retrying; skip with ^C]\n",
            "JSON Query to graphql/query: HTTP error code 401. [retrying; skip with ^C]\n",
            "Download <Post C6pP4Bsr0A6> of economicaperu: JSON Query to graphql/query: HTTP error code 401.\n",
            "[  13/2028] [2024-05-06_20-16-28|66|0|Esti…] unchanged json \n",
            "[  14/2028] [2024-05-05_01-00-55|120|1|#Op…] unchanged JSON Query to graphql/query: HTTP error code 401. [retrying; skip with ^C]\n",
            "JSON Query to graphql/query: HTTP error code 401. [retrying; skip with ^C]\n",
            "Download <Post C6kU0iIMren> of economicaperu: JSON Query to graphql/query: HTTP error code 401.\n",
            "[  15/2028] [2024-05-03_23-51-20|278|4|⭐️E…] updated [2024-05-03_23-51-20|279|4|⭐️E…] JSON Query to graphql/query: HTTP error code 401. [retrying; skip with ^C]\n",
            "JSON Query to graphql/query: HTTP error code 401. [retrying; skip with ^C]\n",
            "Download <Post C6hoD6RMXmg> of economicaperu: JSON Query to graphql/query: HTTP error code 401.\n",
            "[  16/2028] [2024-05-02_21-25-43|89|0|¿Cóm…] unchanged json \n",
            "[  17/2028] [2024-05-02_01-26-35|97|0|#Ani…] unchanged json \n",
            "[  18/2028] [2024-05-01_02-41-07|72|2|\"El …] unchanged JSON Query to graphql/query: HTTP error code 401. [retrying; skip with ^C]\n",
            "JSON Query to graphql/query: HTTP error code 401. [retrying; skip with ^C]\n",
            "Download <Post C6aNG0CsnMr> of economicaperu: JSON Query to graphql/query: HTTP error code 401.\n",
            "[  19/2028] [2024-05-01_00-07-46|103|0|📰 ¡…] unchanged json \n",
            "[  20/2028] [2024-04-29_23-22-10|64|0|¡Des…] unchanged json \n",
            "[  21/2028] [2024-04-28_23-51-11|116|0|📰 ¡…] unchanged json \n",
            "[  22/2028] [2024-04-27_21-31-15|128|3|#Op…] unchanged JSON Query to graphql/query: HTTP error code 401. [retrying; skip with ^C]\n",
            "JSON Query to graphql/query: HTTP error code 401. [retrying; skip with ^C]\n",
            "Download <Post C6R7QtbJk2a> of economicaperu: JSON Query to graphql/query: HTTP error code 401.\n",
            "[  23/2028] [2024-04-26_18-18-05|170|5|Se …] unchanged JSON Query to graphql/query: HTTP error code 401. [retrying; skip with ^C]\n",
            "JSON Query to graphql/query: HTTP error code 401. [retrying; skip with ^C]\n",
            "Download <Post C6PAXB5JEEA> of economicaperu: JSON Query to graphql/query: HTTP error code 401.\n",
            "[  24/2028] [2024-04-26_01-29-52|130|0|#Ec…] unchanged json \n",
            "[  25/2028] [2024-04-24_23-36-06|105|0|¿Qu…] unchanged json \n",
            "[  26/2028] [2024-04-23_02-04-53|188|13|💪🌊…] unchanged JSON Query to graphql/query: HTTP error code 401. [retrying; skip with ^C]\n",
            "JSON Query to graphql/query: HTTP error code 401. [retrying; skip with ^C]\n",
            "Download <Post C6FidjXrpnW> of economicaperu: JSON Query to graphql/query: HTTP error code 401.\n",
            "[  27/2028] [2024-04-21_20-15-44|208|3|#Ec…] unchanged JSON Query to graphql/query: HTTP error code 401. [retrying; skip with ^C]\n",
            "JSON Query to graphql/query: HTTP error code 401. [retrying; skip with ^C]\n",
            "JSON Query to graphql/query: HTTP error code 401. [retrying; skip with ^C]\n",
            "JSON Query to graphql/query: HTTP error code 401. [retrying; skip with ^C]\n",
            "Download <Post C6CV2ZXpo97> of economicaperu: JSON Query to graphql/query: HTTP error code 401.\n",
            "[  28/2028] [2024-04-20_21-44-15|187|6|#Op…] unchanged JSON Query to graphql/query: HTTP error code 401. [retrying; skip with ^C]\n",
            "JSON Query to graphql/query: HTTP error code 401. [retrying; skip with ^C]\n",
            "Download <Post C5_7L0kpsF9> of economicaperu: JSON Query to graphql/query: HTTP error code 401.\n",
            "[  29/2028] [2024-04-19_16-00-20|3305|63|🎶…] updated [2024-04-19_16-00-20|3306|63|🎶…] JSON Query to graphql/query: HTTP error code 401. [retrying; skip with ^C]\n",
            "JSON Query to graphql/query: HTTP error code 401. [retrying; skip with ^C]\n",
            "Download <Post C58vB-LrbrG> of economicaperu: JSON Query to graphql/query: HTTP error code 401.\n",
            "[  30/2028] [2024-04-17_22-37-17|178|20|#A…] unchanged JSON Query to graphql/query: HTTP error code 401. [retrying; skip with ^C]\n",
            "JSON Query to graphql/query: HTTP error code 401. [retrying; skip with ^C]\n",
            "Download <Post C54S3jCM9Wk> of economicaperu: JSON Query to graphql/query: HTTP error code 401.\n",
            "[  31/2028] [2024-04-15_01-17-51|226|16|🌟 …] unchanged JSON Query to graphql/query: HTTP error code 401. [retrying; skip with ^C]\n",
            "JSON Query to graphql/query: HTTP error code 401. [retrying; skip with ^C]\n",
            "Download <Post C5w2Dlvsen5> of economicaperu: JSON Query to graphql/query: HTTP error code 401.\n",
            "[  32/2028] [2024-04-14_17-12-12|276|7|Est…] unchanged \n",
            "Saved resume information to economicaperu/iterator_j56jUj7m.json.xz.\n",
            "\n",
            "Interrupted by user.\n",
            "\n",
            "Errors or warnings occurred:\n",
            "Download <Post C5n7eT9LKAW> of economicaperu: JSON Query to graphql/query: HTTP error code 401.\n",
            "Download <Post C7WvyeVOAHW> of economicaperu: JSON Query to graphql/query: HTTP error code 401.\n",
            "Download <Post C7VFB4rsgRw> of economicaperu: JSON Query to graphql/query: HTTP error code 401.\n",
            "Download <Post C7KkowKvwHi> of economicaperu: JSON Query to graphql/query: HTTP error code 401.\n",
            "Download <Post C7FncLGsD07> of economicaperu: JSON Query to graphql/query: HTTP error code 401.\n",
            "Download <Post C61J_AZsnQI> of economicaperu: JSON Query to graphql/query: HTTP error code 401.\n",
            "Download <Post C6uT1Ftv5fb> of economicaperu: JSON Query to graphql/query: HTTP error code 401.\n",
            "Download <Post C6pP4Bsr0A6> of economicaperu: JSON Query to graphql/query: HTTP error code 401.\n",
            "Download <Post C6kU0iIMren> of economicaperu: JSON Query to graphql/query: HTTP error code 401.\n",
            "Download <Post C6hoD6RMXmg> of economicaperu: JSON Query to graphql/query: HTTP error code 401.\n",
            "Download <Post C6aNG0CsnMr> of economicaperu: JSON Query to graphql/query: HTTP error code 401.\n",
            "Download <Post C6R7QtbJk2a> of economicaperu: JSON Query to graphql/query: HTTP error code 401.\n",
            "Download <Post C6PAXB5JEEA> of economicaperu: JSON Query to graphql/query: HTTP error code 401.\n",
            "Download <Post C6FidjXrpnW> of economicaperu: JSON Query to graphql/query: HTTP error code 401.\n",
            "Download <Post C6CV2ZXpo97> of economicaperu: JSON Query to graphql/query: HTTP error code 401.\n",
            "Download <Post C5_7L0kpsF9> of economicaperu: JSON Query to graphql/query: HTTP error code 401.\n",
            "Download <Post C58vB-LrbrG> of economicaperu: JSON Query to graphql/query: HTTP error code 401.\n",
            "Download <Post C54S3jCM9Wk> of economicaperu: JSON Query to graphql/query: HTTP error code 401.\n",
            "Download <Post C5w2Dlvsen5> of economicaperu: JSON Query to graphql/query: HTTP error code 401.\n"
          ]
        }
      ]
    },
    {
      "cell_type": "markdown",
      "source": [
        "Debido a esta dificultad ya tengo un archivo .zip que he podido generar en mi PC donde ya concluí ese bucle de ejecutar esa línea de código. Es este archivo comprimido se encuentra los datos de 2057 posts.\n",
        "\n",
        "El motivo por el que es mayor al número de post de 2026 que previamente revisamos con Instaloader lo desconozco. Sospecho que puede haber incluido información de posts que previamente fueron eliminados, pero que sigue almacenado sus metadatos en los servidores de Facebook."
      ],
      "metadata": {
        "id": "DVC_GK_GkqCR"
      }
    },
    {
      "cell_type": "code",
      "source": [
        "import zipfile\n",
        "\n",
        "# Ruta del archivo ZIP y el directorio de destino\n",
        "zip_file_path = 'economicaperu.zip'\n",
        "output_dir = './'\n",
        "\n",
        "# Asegurarse de que el directorio de destino exista\n",
        "if not os.path.exists(output_dir):\n",
        "    os.makedirs(output_dir)\n",
        "\n",
        "# Abrir y extraer el archivo ZIP\n",
        "with zipfile.ZipFile(zip_file_path, 'r') as zip_ref:\n",
        "    zip_ref.extractall(output_dir)\n",
        "\n",
        "print(f\"Archivo descomprimido en: {output_dir}\")\n"
      ],
      "metadata": {
        "colab": {
          "base_uri": "https://localhost:8080/"
        },
        "id": "vAiTVF5Ef_Zy",
        "outputId": "639b618e-1730-4d35-d9b8-c17a6f663d1b"
      },
      "execution_count": 5,
      "outputs": [
        {
          "output_type": "stream",
          "name": "stdout",
          "text": [
            "Archivo descomprimido en: ./\n"
          ]
        }
      ]
    },
    {
      "cell_type": "markdown",
      "source": [
        "Esta celda de código se encarga de eliminar cualquier hashtags  que pueda aparecer entre las fechas si ocurriece.\n",
        "\n",
        "Después se encarga de detectar todos los archivos txt de la carpeta `economicaperu`, detecta cada nuevo registro y aplana el todos los datos de cada archivo (caption con varios saltos de línea) y los agrupa en una lista `datos`."
      ],
      "metadata": {
        "id": "s0-mvO_9n2OQ"
      }
    },
    {
      "cell_type": "code",
      "source": [
        "# Función para eliminar hashtags de una cadena\n",
        "def eliminar_hashtags(cadena):\n",
        "    return re.sub(r'#\\w+\\s*', '', cadena)\n",
        "\n",
        "# Ruta de la carpeta que contiene los archivos txt\n",
        "carpeta = USER\n",
        "\n",
        "# Lista para almacenar los datos de cada archivo\n",
        "datos = []\n",
        "\n",
        "# Expresión regular para detectar la fecha al inicio de una línea\n",
        "patron_fecha = re.compile(r'^\\d{4}-\\d{2}-\\d{2}_\\d{2}-\\d{2}-\\d{2}')\n",
        "\n",
        "# Iterar sobre cada archivo en la carpeta\n",
        "for archivo in os.listdir(carpeta):\n",
        "    if archivo.endswith(\".txt\"):\n",
        "        with open(os.path.join(carpeta, archivo), \"r\", encoding=\"utf-8\") as f:\n",
        "            lineas = f.readlines()\n",
        "\n",
        "            # Variables para agrupar datos\n",
        "            registro_actual = []\n",
        "            for linea in lineas:\n",
        "                linea = linea.strip()\n",
        "                if patron_fecha.match(linea):\n",
        "                    if registro_actual:\n",
        "                        # Unir el caption y agregar el registro a los datos\n",
        "                        if len(registro_actual) == 4:\n",
        "                            datos.append(registro_actual)\n",
        "                    # Iniciar un nuevo registro\n",
        "                    partes = linea.split(\"|\", 3)\n",
        "                    if len(partes) == 4:\n",
        "                        registro_actual = partes\n",
        "                        registro_actual[3] = [registro_actual[3]]  # Convertir caption en lista\n",
        "                    else:\n",
        "                        registro_actual = []\n",
        "                else:\n",
        "                    if registro_actual:\n",
        "                        registro_actual[3].append(linea)\n",
        "\n",
        "            # Agregar el último registro\n",
        "            if registro_actual and len(registro_actual) == 4:\n",
        "                datos.append(registro_actual)\n",
        "\n",
        "# Aplanar los captions\n",
        "for registro in datos:\n",
        "    registro[3] = \" \".join(registro[3])"
      ],
      "metadata": {
        "id": "XiM_YgvYRA-A"
      },
      "execution_count": 7,
      "outputs": []
    },
    {
      "cell_type": "markdown",
      "source": [
        "Se transforma la lista `datos` en un `dataframe` y se guarda como un archivo `.csv`."
      ],
      "metadata": {
        "id": "9yqQUxuAoljf"
      }
    },
    {
      "cell_type": "code",
      "source": [
        "# Crear un DataFrame con los datos\n",
        "df = pd.DataFrame(datos, columns=[\"fecha\", \"likes\", \"comments\", \"caption\"])\n",
        "\n",
        "# Convertir columnas \"likes\" y \"comments\" a tipo numérico\n",
        "df[\"likes\"] = pd.to_numeric(df[\"likes\"], errors='coerce')\n",
        "df[\"comments\"] = pd.to_numeric(df[\"comments\"], errors='coerce')\n",
        "\n",
        "# Eliminar filas con valores NaN en la columna \"likes\"\n",
        "df = df.dropna(subset=[\"likes\"])\n",
        "\n",
        "# Convertir la columna \"fecha\" a tipo datetime con el formato adecuado y establecerla en UTC\n",
        "df[\"fecha\"] = pd.to_datetime(df[\"fecha\"], format=\"%Y-%m-%d_%H-%M-%S\", errors='coerce', utc=True)\n",
        "\n",
        "# Eliminar filas con valores NaN en la columna \"fecha\"\n",
        "df = df.dropna(subset=[\"fecha\"])\n",
        "\n",
        "# Convertir la columna \"fecha\" a UTC-5\n",
        "df[\"fecha\"] = df[\"fecha\"].dt.tz_convert(\"Etc/GMT+5\")\n",
        "\n",
        "# Ordenar el DataFrame por la columna \"fecha\" y luego por \"likes\" de manera descendente\n",
        "df = df.sort_values(by=[\"fecha\", \"likes\"], ascending=[True, False])\n",
        "\n",
        "# Eliminar duplicados, quedándose con la fila con más likes para cada fecha\n",
        "df = df.drop_duplicates(subset=\"fecha\", keep=\"first\")\n",
        "\n",
        "# Ordenar el DataFrame por la columna \"fecha\" de manera descendente\n",
        "df = df.sort_values(by=\"fecha\", ascending=True)\n",
        "\n",
        "# Reiniciar el índice del DataFrame\n",
        "df.reset_index(drop=True, inplace=True)\n",
        "\n",
        "# Guardar el DataFrame como un archivo CSV\n",
        "file_name = f\"datos_{USER}.csv\"\n",
        "df.to_csv(file_name, index=False)\n",
        "print(f\"DataFrame guardado como {file_name}\")\n",
        "print(\"\")\n",
        "print(df.shape)\n",
        "print(\"\")\n",
        "\n",
        "# Mostrar el DataFrame\n",
        "print(df.head(10))\n"
      ],
      "metadata": {
        "id": "2gAeShReYJZs",
        "colab": {
          "base_uri": "https://localhost:8080/"
        },
        "outputId": "d96be4b2-ce9c-43c8-ac95-4444014a6dce"
      },
      "execution_count": 12,
      "outputs": [
        {
          "output_type": "stream",
          "name": "stdout",
          "text": [
            "DataFrame guardado como datos_economicaperu.csv\n",
            "\n",
            "(2028, 4)\n",
            "\n",
            "                      fecha  likes  comments  \\\n",
            "0 2018-03-13 15:12:34-05:00     21         0   \n",
            "1 2018-03-14 00:48:54-05:00     24         0   \n",
            "2 2018-03-14 18:32:05-05:00     17         2   \n",
            "3 2018-03-15 11:08:12-05:00     14         2   \n",
            "4 2018-03-15 15:44:48-05:00     16         0   \n",
            "5 2018-03-16 18:35:33-05:00     16         0   \n",
            "6 2018-03-18 21:29:00-05:00     25         0   \n",
            "7 2018-03-18 23:31:17-05:00      6         0   \n",
            "8 2018-03-20 10:56:53-05:00     14         0   \n",
            "9 2018-03-20 12:30:26-05:00     22         0   \n",
            "\n",
            "                                             caption  \n",
            "0  No te pierdas nuestros  cursos de Stata Nivel ...  \n",
            "1  \"El dinero puede servir para liberar al indivi...  \n",
            "2  No te pierdas la oportunidad de ser parte de n...  \n",
            "3  La Organización Económica y el Centro de Estud...  \n",
            "4  Proyecto de ley de la comisión de trabajo ampl...  \n",
            "5  Perú se encuentra entre los países con mayor c...  \n",
            "6  8% de desempleo en Lima Metropolitana: ¿Venezo...  \n",
            "7  El dilema de los impuestos para las empresas m...  \n",
            "8  Mincetur otorgará S/.21 millones a empresas pe...  \n",
            "9  ¡ÚLTIMA OPORTUNIDAD! Sé parte de la octava edi...  \n"
          ]
        }
      ]
    },
    {
      "cell_type": "code",
      "source": [
        "df"
      ],
      "metadata": {
        "id": "v6QJzPlHXMSC",
        "colab": {
          "base_uri": "https://localhost:8080/",
          "height": 424
        },
        "outputId": "fdb1efbe-4acc-47a7-948d-be96bdadd94d"
      },
      "execution_count": 14,
      "outputs": [
        {
          "output_type": "execute_result",
          "data": {
            "text/plain": [
              "                         fecha  likes  comments  \\\n",
              "0    2018-03-13 15:12:34-05:00     21         0   \n",
              "1    2018-03-14 00:48:54-05:00     24         0   \n",
              "2    2018-03-14 18:32:05-05:00     17         2   \n",
              "3    2018-03-15 11:08:12-05:00     14         2   \n",
              "4    2018-03-15 15:44:48-05:00     16         0   \n",
              "...                        ...    ...       ...   \n",
              "2023 2024-05-23 18:25:43-05:00    305         5   \n",
              "2024 2024-05-24 09:58:36-05:00    414        14   \n",
              "2025 2024-05-25 20:13:12-05:00     84         0   \n",
              "2026 2024-05-28 17:48:08-05:00     54         0   \n",
              "2027 2024-05-29 17:50:17-05:00    104         0   \n",
              "\n",
              "                                                caption  \n",
              "0     No te pierdas nuestros  cursos de Stata Nivel ...  \n",
              "1     \"El dinero puede servir para liberar al indivi...  \n",
              "2     No te pierdas la oportunidad de ser parte de n...  \n",
              "3     La Organización Económica y el Centro de Estud...  \n",
              "4     Proyecto de ley de la comisión de trabajo ampl...  \n",
              "...                                                 ...  \n",
              "2023  ¿Sabías que las promociones de Yape están camb...  \n",
              "2024  🌟 De Guardianes a Engreídos del Hogar 🌟  Nuest...  \n",
              "2025  El debate sobre la implementación de “robots m...  \n",
              "2026  #Ecomundo “Explorando la solidez económica de ...  \n",
              "2027  📰Conexiones entre Salud Mental y Desempleo  El...  \n",
              "\n",
              "[2028 rows x 4 columns]"
            ],
            "text/html": [
              "\n",
              "  <div id=\"df-3f0bba90-2237-4123-939b-6378956cbe83\" class=\"colab-df-container\">\n",
              "    <div>\n",
              "<style scoped>\n",
              "    .dataframe tbody tr th:only-of-type {\n",
              "        vertical-align: middle;\n",
              "    }\n",
              "\n",
              "    .dataframe tbody tr th {\n",
              "        vertical-align: top;\n",
              "    }\n",
              "\n",
              "    .dataframe thead th {\n",
              "        text-align: right;\n",
              "    }\n",
              "</style>\n",
              "<table border=\"1\" class=\"dataframe\">\n",
              "  <thead>\n",
              "    <tr style=\"text-align: right;\">\n",
              "      <th></th>\n",
              "      <th>fecha</th>\n",
              "      <th>likes</th>\n",
              "      <th>comments</th>\n",
              "      <th>caption</th>\n",
              "    </tr>\n",
              "  </thead>\n",
              "  <tbody>\n",
              "    <tr>\n",
              "      <th>0</th>\n",
              "      <td>2018-03-13 15:12:34-05:00</td>\n",
              "      <td>21</td>\n",
              "      <td>0</td>\n",
              "      <td>No te pierdas nuestros  cursos de Stata Nivel ...</td>\n",
              "    </tr>\n",
              "    <tr>\n",
              "      <th>1</th>\n",
              "      <td>2018-03-14 00:48:54-05:00</td>\n",
              "      <td>24</td>\n",
              "      <td>0</td>\n",
              "      <td>\"El dinero puede servir para liberar al indivi...</td>\n",
              "    </tr>\n",
              "    <tr>\n",
              "      <th>2</th>\n",
              "      <td>2018-03-14 18:32:05-05:00</td>\n",
              "      <td>17</td>\n",
              "      <td>2</td>\n",
              "      <td>No te pierdas la oportunidad de ser parte de n...</td>\n",
              "    </tr>\n",
              "    <tr>\n",
              "      <th>3</th>\n",
              "      <td>2018-03-15 11:08:12-05:00</td>\n",
              "      <td>14</td>\n",
              "      <td>2</td>\n",
              "      <td>La Organización Económica y el Centro de Estud...</td>\n",
              "    </tr>\n",
              "    <tr>\n",
              "      <th>4</th>\n",
              "      <td>2018-03-15 15:44:48-05:00</td>\n",
              "      <td>16</td>\n",
              "      <td>0</td>\n",
              "      <td>Proyecto de ley de la comisión de trabajo ampl...</td>\n",
              "    </tr>\n",
              "    <tr>\n",
              "      <th>...</th>\n",
              "      <td>...</td>\n",
              "      <td>...</td>\n",
              "      <td>...</td>\n",
              "      <td>...</td>\n",
              "    </tr>\n",
              "    <tr>\n",
              "      <th>2023</th>\n",
              "      <td>2024-05-23 18:25:43-05:00</td>\n",
              "      <td>305</td>\n",
              "      <td>5</td>\n",
              "      <td>¿Sabías que las promociones de Yape están camb...</td>\n",
              "    </tr>\n",
              "    <tr>\n",
              "      <th>2024</th>\n",
              "      <td>2024-05-24 09:58:36-05:00</td>\n",
              "      <td>414</td>\n",
              "      <td>14</td>\n",
              "      <td>🌟 De Guardianes a Engreídos del Hogar 🌟  Nuest...</td>\n",
              "    </tr>\n",
              "    <tr>\n",
              "      <th>2025</th>\n",
              "      <td>2024-05-25 20:13:12-05:00</td>\n",
              "      <td>84</td>\n",
              "      <td>0</td>\n",
              "      <td>El debate sobre la implementación de “robots m...</td>\n",
              "    </tr>\n",
              "    <tr>\n",
              "      <th>2026</th>\n",
              "      <td>2024-05-28 17:48:08-05:00</td>\n",
              "      <td>54</td>\n",
              "      <td>0</td>\n",
              "      <td>#Ecomundo “Explorando la solidez económica de ...</td>\n",
              "    </tr>\n",
              "    <tr>\n",
              "      <th>2027</th>\n",
              "      <td>2024-05-29 17:50:17-05:00</td>\n",
              "      <td>104</td>\n",
              "      <td>0</td>\n",
              "      <td>📰Conexiones entre Salud Mental y Desempleo  El...</td>\n",
              "    </tr>\n",
              "  </tbody>\n",
              "</table>\n",
              "<p>2028 rows × 4 columns</p>\n",
              "</div>\n",
              "    <div class=\"colab-df-buttons\">\n",
              "\n",
              "  <div class=\"colab-df-container\">\n",
              "    <button class=\"colab-df-convert\" onclick=\"convertToInteractive('df-3f0bba90-2237-4123-939b-6378956cbe83')\"\n",
              "            title=\"Convert this dataframe to an interactive table.\"\n",
              "            style=\"display:none;\">\n",
              "\n",
              "  <svg xmlns=\"http://www.w3.org/2000/svg\" height=\"24px\" viewBox=\"0 -960 960 960\">\n",
              "    <path d=\"M120-120v-720h720v720H120Zm60-500h600v-160H180v160Zm220 220h160v-160H400v160Zm0 220h160v-160H400v160ZM180-400h160v-160H180v160Zm440 0h160v-160H620v160ZM180-180h160v-160H180v160Zm440 0h160v-160H620v160Z\"/>\n",
              "  </svg>\n",
              "    </button>\n",
              "\n",
              "  <style>\n",
              "    .colab-df-container {\n",
              "      display:flex;\n",
              "      gap: 12px;\n",
              "    }\n",
              "\n",
              "    .colab-df-convert {\n",
              "      background-color: #E8F0FE;\n",
              "      border: none;\n",
              "      border-radius: 50%;\n",
              "      cursor: pointer;\n",
              "      display: none;\n",
              "      fill: #1967D2;\n",
              "      height: 32px;\n",
              "      padding: 0 0 0 0;\n",
              "      width: 32px;\n",
              "    }\n",
              "\n",
              "    .colab-df-convert:hover {\n",
              "      background-color: #E2EBFA;\n",
              "      box-shadow: 0px 1px 2px rgba(60, 64, 67, 0.3), 0px 1px 3px 1px rgba(60, 64, 67, 0.15);\n",
              "      fill: #174EA6;\n",
              "    }\n",
              "\n",
              "    .colab-df-buttons div {\n",
              "      margin-bottom: 4px;\n",
              "    }\n",
              "\n",
              "    [theme=dark] .colab-df-convert {\n",
              "      background-color: #3B4455;\n",
              "      fill: #D2E3FC;\n",
              "    }\n",
              "\n",
              "    [theme=dark] .colab-df-convert:hover {\n",
              "      background-color: #434B5C;\n",
              "      box-shadow: 0px 1px 3px 1px rgba(0, 0, 0, 0.15);\n",
              "      filter: drop-shadow(0px 1px 2px rgba(0, 0, 0, 0.3));\n",
              "      fill: #FFFFFF;\n",
              "    }\n",
              "  </style>\n",
              "\n",
              "    <script>\n",
              "      const buttonEl =\n",
              "        document.querySelector('#df-3f0bba90-2237-4123-939b-6378956cbe83 button.colab-df-convert');\n",
              "      buttonEl.style.display =\n",
              "        google.colab.kernel.accessAllowed ? 'block' : 'none';\n",
              "\n",
              "      async function convertToInteractive(key) {\n",
              "        const element = document.querySelector('#df-3f0bba90-2237-4123-939b-6378956cbe83');\n",
              "        const dataTable =\n",
              "          await google.colab.kernel.invokeFunction('convertToInteractive',\n",
              "                                                    [key], {});\n",
              "        if (!dataTable) return;\n",
              "\n",
              "        const docLinkHtml = 'Like what you see? Visit the ' +\n",
              "          '<a target=\"_blank\" href=https://colab.research.google.com/notebooks/data_table.ipynb>data table notebook</a>'\n",
              "          + ' to learn more about interactive tables.';\n",
              "        element.innerHTML = '';\n",
              "        dataTable['output_type'] = 'display_data';\n",
              "        await google.colab.output.renderOutput(dataTable, element);\n",
              "        const docLink = document.createElement('div');\n",
              "        docLink.innerHTML = docLinkHtml;\n",
              "        element.appendChild(docLink);\n",
              "      }\n",
              "    </script>\n",
              "  </div>\n",
              "\n",
              "\n",
              "<div id=\"df-3495fa1b-9a5c-4860-ad58-f4c2921688c9\">\n",
              "  <button class=\"colab-df-quickchart\" onclick=\"quickchart('df-3495fa1b-9a5c-4860-ad58-f4c2921688c9')\"\n",
              "            title=\"Suggest charts\"\n",
              "            style=\"display:none;\">\n",
              "\n",
              "<svg xmlns=\"http://www.w3.org/2000/svg\" height=\"24px\"viewBox=\"0 0 24 24\"\n",
              "     width=\"24px\">\n",
              "    <g>\n",
              "        <path d=\"M19 3H5c-1.1 0-2 .9-2 2v14c0 1.1.9 2 2 2h14c1.1 0 2-.9 2-2V5c0-1.1-.9-2-2-2zM9 17H7v-7h2v7zm4 0h-2V7h2v10zm4 0h-2v-4h2v4z\"/>\n",
              "    </g>\n",
              "</svg>\n",
              "  </button>\n",
              "\n",
              "<style>\n",
              "  .colab-df-quickchart {\n",
              "      --bg-color: #E8F0FE;\n",
              "      --fill-color: #1967D2;\n",
              "      --hover-bg-color: #E2EBFA;\n",
              "      --hover-fill-color: #174EA6;\n",
              "      --disabled-fill-color: #AAA;\n",
              "      --disabled-bg-color: #DDD;\n",
              "  }\n",
              "\n",
              "  [theme=dark] .colab-df-quickchart {\n",
              "      --bg-color: #3B4455;\n",
              "      --fill-color: #D2E3FC;\n",
              "      --hover-bg-color: #434B5C;\n",
              "      --hover-fill-color: #FFFFFF;\n",
              "      --disabled-bg-color: #3B4455;\n",
              "      --disabled-fill-color: #666;\n",
              "  }\n",
              "\n",
              "  .colab-df-quickchart {\n",
              "    background-color: var(--bg-color);\n",
              "    border: none;\n",
              "    border-radius: 50%;\n",
              "    cursor: pointer;\n",
              "    display: none;\n",
              "    fill: var(--fill-color);\n",
              "    height: 32px;\n",
              "    padding: 0;\n",
              "    width: 32px;\n",
              "  }\n",
              "\n",
              "  .colab-df-quickchart:hover {\n",
              "    background-color: var(--hover-bg-color);\n",
              "    box-shadow: 0 1px 2px rgba(60, 64, 67, 0.3), 0 1px 3px 1px rgba(60, 64, 67, 0.15);\n",
              "    fill: var(--button-hover-fill-color);\n",
              "  }\n",
              "\n",
              "  .colab-df-quickchart-complete:disabled,\n",
              "  .colab-df-quickchart-complete:disabled:hover {\n",
              "    background-color: var(--disabled-bg-color);\n",
              "    fill: var(--disabled-fill-color);\n",
              "    box-shadow: none;\n",
              "  }\n",
              "\n",
              "  .colab-df-spinner {\n",
              "    border: 2px solid var(--fill-color);\n",
              "    border-color: transparent;\n",
              "    border-bottom-color: var(--fill-color);\n",
              "    animation:\n",
              "      spin 1s steps(1) infinite;\n",
              "  }\n",
              "\n",
              "  @keyframes spin {\n",
              "    0% {\n",
              "      border-color: transparent;\n",
              "      border-bottom-color: var(--fill-color);\n",
              "      border-left-color: var(--fill-color);\n",
              "    }\n",
              "    20% {\n",
              "      border-color: transparent;\n",
              "      border-left-color: var(--fill-color);\n",
              "      border-top-color: var(--fill-color);\n",
              "    }\n",
              "    30% {\n",
              "      border-color: transparent;\n",
              "      border-left-color: var(--fill-color);\n",
              "      border-top-color: var(--fill-color);\n",
              "      border-right-color: var(--fill-color);\n",
              "    }\n",
              "    40% {\n",
              "      border-color: transparent;\n",
              "      border-right-color: var(--fill-color);\n",
              "      border-top-color: var(--fill-color);\n",
              "    }\n",
              "    60% {\n",
              "      border-color: transparent;\n",
              "      border-right-color: var(--fill-color);\n",
              "    }\n",
              "    80% {\n",
              "      border-color: transparent;\n",
              "      border-right-color: var(--fill-color);\n",
              "      border-bottom-color: var(--fill-color);\n",
              "    }\n",
              "    90% {\n",
              "      border-color: transparent;\n",
              "      border-bottom-color: var(--fill-color);\n",
              "    }\n",
              "  }\n",
              "</style>\n",
              "\n",
              "  <script>\n",
              "    async function quickchart(key) {\n",
              "      const quickchartButtonEl =\n",
              "        document.querySelector('#' + key + ' button');\n",
              "      quickchartButtonEl.disabled = true;  // To prevent multiple clicks.\n",
              "      quickchartButtonEl.classList.add('colab-df-spinner');\n",
              "      try {\n",
              "        const charts = await google.colab.kernel.invokeFunction(\n",
              "            'suggestCharts', [key], {});\n",
              "      } catch (error) {\n",
              "        console.error('Error during call to suggestCharts:', error);\n",
              "      }\n",
              "      quickchartButtonEl.classList.remove('colab-df-spinner');\n",
              "      quickchartButtonEl.classList.add('colab-df-quickchart-complete');\n",
              "    }\n",
              "    (() => {\n",
              "      let quickchartButtonEl =\n",
              "        document.querySelector('#df-3495fa1b-9a5c-4860-ad58-f4c2921688c9 button');\n",
              "      quickchartButtonEl.style.display =\n",
              "        google.colab.kernel.accessAllowed ? 'block' : 'none';\n",
              "    })();\n",
              "  </script>\n",
              "</div>\n",
              "    </div>\n",
              "  </div>\n"
            ],
            "application/vnd.google.colaboratory.intrinsic+json": {
              "type": "dataframe",
              "variable_name": "df",
              "summary": "{\n  \"name\": \"df\",\n  \"rows\": 2028,\n  \"fields\": [\n    {\n      \"column\": \"fecha\",\n      \"properties\": {\n        \"dtype\": \"date\",\n        \"min\": \"2018-03-13 15:12:34-05:00\",\n        \"max\": \"2024-05-29 17:50:17-05:00\",\n        \"num_unique_values\": 2028,\n        \"samples\": [\n          \"2022-06-17 14:33:58-05:00\",\n          \"2022-01-08 19:09:15-05:00\",\n          \"2022-12-29 14:01:06-05:00\"\n        ],\n        \"semantic_type\": \"\",\n        \"description\": \"\"\n      }\n    },\n    {\n      \"column\": \"likes\",\n      \"properties\": {\n        \"dtype\": \"number\",\n        \"std\": 101,\n        \"min\": 6,\n        \"max\": 3306,\n        \"num_unique_values\": 267,\n        \"samples\": [\n          137,\n          26,\n          323\n        ],\n        \"semantic_type\": \"\",\n        \"description\": \"\"\n      }\n    },\n    {\n      \"column\": \"comments\",\n      \"properties\": {\n        \"dtype\": \"number\",\n        \"std\": 5,\n        \"min\": 0,\n        \"max\": 79,\n        \"num_unique_values\": 36,\n        \"samples\": [\n          63,\n          8,\n          17\n        ],\n        \"semantic_type\": \"\",\n        \"description\": \"\"\n      }\n    },\n    {\n      \"column\": \"caption\",\n      \"properties\": {\n        \"dtype\": \"string\",\n        \"num_unique_values\": 2027,\n        \"samples\": [\n          \"#Econ\\u00f3micaInforma  NUEVOS PROYECTOS MINEROS IMPACTAR\\u00c1N EN LA REDUCCI\\u00d3N DE LA POBREZA EN APUR\\u00cdMAC, CUSCO Y PUNO  El Instituto de Ingenieros de Minas del Per\\u00fa (IIMP), se\\u00f1al\\u00f3 el \\u00faltimo jueves que la ejecuci\\u00f3n de 14 nuevos proyectos mineros en Apur\\u00edmac, Cusco y Puno impactar\\u00e1n favorablemente en la reducci\\u00f3n de la pobreza para estos sectores, pues se espera que, para el a\\u00f1o 2031, la tasa de pobreza perteneciente a cada una de estas regiones se reduzca en m\\u00e1s de 10 puntos porcentuales. Para el caso de Apur\\u00edmac, cuya cartera de inversi\\u00f3n minera se encuentra valorizada en m\\u00e1s de 10,199 millones de d\\u00f3lares, la reducci\\u00f3n de la pobreza se dar\\u00eda hasta en 16 puntos porcentuales, por lo que pasar\\u00eda de un 29% a un 13% al 2031. De igual manera, se estima una reducci\\u00f3n significativa en la tasa de pobreza de Puno, pues se calcula que su magnitud se contraiga de 40% a 26% hacia el mismo a\\u00f1o. Mientras que, para Cusco, que tiene una cartera de inversi\\u00f3n minera con un valor de 2,226 millones de d\\u00f3lares, se proyecta que la tasa de pobreza pase de 29% a 19%.  Asimismo, tambi\\u00e9n se indic\\u00f3 que la ejecuci\\u00f3n de dichos proyectos generar\\u00eda cerca de 190,000 puestos de trabajo en las regiones se\\u00f1aladas. De esta manera, la poblaci\\u00f3n que se encontrar\\u00eda empleada por la miner\\u00eda, tanto de manera directa como indirecta, alcanzar\\u00eda a m\\u00e1s de 424,000 personas.  Finalmente, los proyectos m\\u00e1s importantes ser\\u00edan los siguientes: para el caso de Apur\\u00edmac, se encuentran Hierro Apur\\u00edmac, Los Chancas y Haquira; mientras que, los proyectos de Cusco, ser\\u00edan Quechua, Integraci\\u00f3n Coroccohuayco y Achha y Yanque, y por \\u00faltimo, los proyectos en Puno ser\\u00edan Falchani y Corani.  Nota informativa gracias a Malory Valdivieso.  Fuente: Andina(https://cutt.ly/nKigVG9)  #ProyectosMineros #Pobreza #Per\\u00fa\",\n          \"#Econ\\u00f3micaPodcast  INDICADORES MACROECON\\u00d3MICOS EN PER\\u00da: \\u00bfC\\u00d3MO SE HAN MOVIDO EN 2021 Y CU\\u00c1LES SON LAS PROYECCIONES PARA EL 2022?  Acabamos de cerrar el a\\u00f1o 2021 y es importante analizar cu\\u00e1l ha sido el balance general de los indicadores macroecon\\u00f3micos durante este periodo, ya que estos nos muestran cu\\u00e1l ha sido el desempe\\u00f1o de nuestro pa\\u00eds. Asimismo, es fundamental repasar cu\\u00e1les son las expectativas y retos que se deparan para el 2022.  Link directo: https://spoti.fi/3qaamk0  #macroeconom\\u00eda #proyecciones #balance #expectativas\",\n          \"#Econ\\u00f3micaQuiz \\ud83c\\udf0eLas relaciones internacionales y las pol\\u00edticas de comercio exterior son importantes para las econom\\u00edas peque\\u00f1as y abiertas, como la econom\\u00eda peruana, porque permiten aprovechar los beneficios del comercio internacional: menores precios locales\\u2b07\\ufe0f, mayores ganancias\\ud83d\\udcb2y mayor diversidad de productos.\\ud83c\\udf1f  \\u00a1En esta nueva secci\\u00f3n, te invitamos a participar en nuestra trivia de la semana! \\ud83e\\udde0 \\u00bfQu\\u00e9 tanto conoces sobre las relaciones exteriores y acuerdos comerciales del Per\\u00fa? \\ud83e\\udd14 \\u00bfCu\\u00e1ntas preguntas acertaste? D\\u00e9janos tu comentario.\\ud83d\\udcac \\u2b07\\ufe0f  #pol\\u00edtica #comercio #exterior #internacional #ONU #TLC #per\\u00fa #economics #econom\\u00eda #quiz #test #trivia #pucp #comercioexterior #comerciointernacional\"\n        ],\n        \"semantic_type\": \"\",\n        \"description\": \"\"\n      }\n    }\n  ]\n}"
            }
          },
          "metadata": {},
          "execution_count": 14
        }
      ]
    }
  ]
}